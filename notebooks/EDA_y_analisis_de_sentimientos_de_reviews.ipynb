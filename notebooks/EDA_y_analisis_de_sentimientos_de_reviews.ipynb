{
  "nbformat": 4,
  "nbformat_minor": 0,
  "metadata": {
    "colab": {
      "provenance": [],
      "machine_shape": "hm"
    },
    "kernelspec": {
      "name": "python3",
      "display_name": "Python 3"
    },
    "language_info": {
      "name": "python"
    }
  },
  "cells": [
    {
      "cell_type": "markdown",
      "source": [
        "DEscargamos librerias faltantes"
      ],
      "metadata": {
        "id": "828z75tqEPDK"
      }
    },
    {
      "cell_type": "code",
      "source": [
        "!pip install langdetect\n",
        "from langdetect import detect\n",
        "!pip install vaderSentiment\n",
        "from vaderSentiment.vaderSentiment import SentimentIntensityAnalyzer\n"
      ],
      "metadata": {
        "colab": {
          "base_uri": "https://localhost:8080/"
        },
        "id": "nNRQMytRxjy0",
        "outputId": "7293aeeb-c880-41c1-d8fc-43523b60081e"
      },
      "execution_count": 24,
      "outputs": [
        {
          "output_type": "stream",
          "name": "stdout",
          "text": [
            "Requirement already satisfied: langdetect in /usr/local/lib/python3.10/dist-packages (1.0.9)\n",
            "Requirement already satisfied: six in /usr/local/lib/python3.10/dist-packages (from langdetect) (1.16.0)\n",
            "Requirement already satisfied: vaderSentiment in /usr/local/lib/python3.10/dist-packages (3.3.2)\n",
            "Requirement already satisfied: requests in /usr/local/lib/python3.10/dist-packages (from vaderSentiment) (2.32.3)\n",
            "Requirement already satisfied: charset-normalizer<4,>=2 in /usr/local/lib/python3.10/dist-packages (from requests->vaderSentiment) (3.4.0)\n",
            "Requirement already satisfied: idna<4,>=2.5 in /usr/local/lib/python3.10/dist-packages (from requests->vaderSentiment) (3.10)\n",
            "Requirement already satisfied: urllib3<3,>=1.21.1 in /usr/local/lib/python3.10/dist-packages (from requests->vaderSentiment) (2.2.3)\n",
            "Requirement already satisfied: certifi>=2017.4.17 in /usr/local/lib/python3.10/dist-packages (from requests->vaderSentiment) (2024.8.30)\n"
          ]
        }
      ]
    },
    {
      "cell_type": "code",
      "source": [
        "import re\n",
        "import json\n",
        "from datetime import datetime\n",
        "import pandas as pd\n",
        "import numpy as np\n",
        "import ast\n",
        "from textblob import TextBlob\n",
        "from langdetect import detect\n",
        "from vaderSentiment.vaderSentiment import SentimentIntensityAnalyzer"
      ],
      "metadata": {
        "id": "YkwxOM9FjusH"
      },
      "execution_count": 30,
      "outputs": []
    },
    {
      "cell_type": "markdown",
      "source": [
        "Al tratar de abrir archivo australian_user_reviews.json posee demasiados errores así que se procede a separar palabras, se cambia  comillas simples por dobles ,se compone las separaciones y gradamos el resultado en un archivó para los datos y otro para los errores que no se pudieron corregir."
      ],
      "metadata": {
        "id": "N9DwKtFJQGgt"
      }
    },
    {
      "cell_type": "code",
      "source": [
        "import json\n",
        "import re\n",
        "import ast\n",
        "\n",
        "entries = []\n",
        "errores = []\n",
        "\n",
        "# Función para separar el campo de reseñas útiles entre las que fueron útiles y las que no lo fueron\n",
        "def extraer_utilidad(helpful_text):\n",
        "    match = re.match(r\"(\\d+) of (\\d+) people\", helpful_text)\n",
        "    if match:\n",
        "        util = int(match.group(1))\n",
        "        total = int(match.group(2))\n",
        "        return {'util': util, 'total': total}\n",
        "    return {'util': 0, 'total': 0}\n",
        "\n",
        "# Abrir archivo JSON\n",
        "with open('/content/australian_user_reviews.json', 'r', encoding='utf-8', errors='ignore') as f:\n",
        "    data = f.read()\n",
        "\n",
        "# Separar los objetos si están pegados\n",
        "data = data.replace('}{', '}\\n{')\n",
        "\n",
        "lines = data.strip().split('\\n')\n",
        "\n",
        "for line_number, line in enumerate(lines, 1):\n",
        "    line = line.strip()\n",
        "    if not line:\n",
        "        continue\n",
        "    try:\n",
        "        \"\"\"\n",
        "        Se utiliza \"ast.literal_eval\" para evaluar cada línea como un literal de Python,\n",
        "        lo que nos permitiría procesar cada línea como un objeto JSON válido. Si hay un error,\n",
        "        se captura más adelante.\n",
        "        \"\"\"\n",
        "        obj = ast.literal_eval(line)\n",
        "        # Extraemos el user_id, user_url y las reseñas\n",
        "        user_id = obj.get('user_id', '')\n",
        "        user_url = obj.get('user_url', '')\n",
        "        reviews = obj.get('reviews', [])\n",
        "        # Añadimos user_id, user_url, posted y last_edited a cada reseña\n",
        "        for review in reviews:\n",
        "            review['user_id'] = user_id\n",
        "            review['user_url'] = user_url\n",
        "            review['posted'] = review.get('posted', '')\n",
        "            review['last_edited'] = review.get('last_edited', '')\n",
        "            helpful_text = review.get('helpful', '')\n",
        "            utilidad = extraer_utilidad(helpful_text)\n",
        "            review['util'] = utilidad['util']\n",
        "            review['total'] = utilidad['total']\n",
        "            entries.append(review)\n",
        "    except Exception as e:\n",
        "        # Si hay un error, lo registramos en la línea en el archivo de errores\n",
        "        print(f'Error al procesar la línea {line_number}: {e}')\n",
        "        errores.append({\n",
        "            'line_number': line_number,\n",
        "            'error': str(e),\n",
        "            'line': line\n",
        "        })\n",
        "\n",
        "# Creamos dos archivos uno donde se guardarán los datos corregidos y otro donde se guardarán los errores para corregirlos después.\n",
        "with open('/content/australian_user_reviews_coregido.json', 'w', encoding='utf-8') as f:\n",
        "    json.dump(entries, f, ensure_ascii=False, indent=4)\n",
        "\n",
        "with open('/content/australian_user_reviews_error.json', 'w', encoding='utf-8') as f:\n",
        "    json.dump(errores, f, ensure_ascii=False, indent=4)\n",
        "\n",
        "print('Las reseñas válidas han sido extraídas y guardadas en \"australian_user_reviews_coregido.json\".')\n",
        "print('Las líneas problemáticas han sido registradas en \"australian_user_reviews_error.json\".')\n"
      ],
      "metadata": {
        "colab": {
          "base_uri": "https://localhost:8080/"
        },
        "id": "l7BwCUqtFgb3",
        "outputId": "3dec9395-086c-4055-ce62-7c8b6dd4bbcf"
      },
      "execution_count": 31,
      "outputs": [
        {
          "output_type": "stream",
          "name": "stdout",
          "text": [
            "Error al procesar la línea 8610: unterminated string literal (detected at line 1) (<unknown>, line 1)\n",
            "Error al procesar la línea 8611: closing parenthesis ')' does not match opening parenthesis '{' (<unknown>, line 1)\n",
            "Las reseñas válidas han sido extraídas y guardadas en \"australian_user_reviews_coregido.json\".\n",
            "Las líneas problemáticas han sido registradas en \"australian_user_reviews_error.json\".\n"
          ]
        }
      ]
    },
    {
      "cell_type": "markdown",
      "source": [
        "Después de componer el archivo no pudo componerse dos líneas la 8610 y la 8611 al ser poca la información la corregimos manualmente y la sumamos al final\n",
        "\n"
      ],
      "metadata": {
        "id": "houMhe6dRmWU"
      }
    },
    {
      "cell_type": "code",
      "source": [
        "# Informacion corregida\n",
        "new_data = {\n",
        "    \"user_id\": \"00000000000000000001227\",\n",
        "    \"user_url\": \"http://steamcommunity.com/id/00000000000000000001227\",\n",
        "    \"reviews\": [\n",
        "        {\n",
        "            \"funny\": \"\",\n",
        "            \"posted\": \"Posted March 12, 2014.\",\n",
        "            \"last_edited\": \"\",\n",
        "            \"item_id\": \"251570\",\n",
        "            \"helpful\": \"0 of 1 people (0%) found this review helpful\",\n",
        "            \"recommend\": True,\n",
        "            \"review\": \"Great game! Watch gameplay before buying as it isn't for everyone...\",\n",
        "            \"util\": 0,\n",
        "            \"total\": 1\n",
        "        },\n",
        "        {\n",
        "            \"funny\": \"\",\n",
        "            \"posted\": \"Posted June 27, 2015.\",\n",
        "            \"last_edited\": \"\",\n",
        "            \"item_id\": \"233250\",\n",
        "            \"helpful\": \"0 of 2 people (0%) found this review helpful\",\n",
        "            \"recommend\": True,\n",
        "            \"review\": \"Gr8\",\n",
        "            \"util\": 0,\n",
        "            \"total\": 2\n",
        "        },\n",
        "        {\n",
        "            \"funny\": \"\",\n",
        "            \"posted\": \"Posted February 21.\",\n",
        "            \"last_edited\": \"\",\n",
        "            \"item_id\": \"4000\",\n",
        "            \"helpful\": \"No ratings yet\",\n",
        "            \"recommend\": True,\n",
        "            \"review\": \"People take things too seriously. Trolling/10.\",\n",
        "            \"util\": 0,\n",
        "            \"total\": 0\n",
        "        },\n",
        "        {\n",
        "            \"funny\": \"\",\n",
        "            \"posted\": \"Posted February 21.\",\n",
        "            \"last_edited\": \"\",\n",
        "            \"item_id\": \"300\",\n",
        "            \"helpful\": \"No ratings yet\",\n",
        "            \"recommend\": True,\n",
        "            \"review\": \"Very good m9. Team killing/10.\",\n",
        "            \"util\": 0,\n",
        "            \"total\": 0\n",
        "        },\n",
        "        {\n",
        "            \"funny\": \"\",\n",
        "            \"posted\": \"Posted May 14, 2014.\",\n",
        "            \"last_edited\": \"\",\n",
        "            \"item_id\": \"730\",\n",
        "            \"helpful\": \"No ratings yet\",\n",
        "            \"recommend\": True,\n",
        "            \"review\": \"EITHER DIE AS SOME CASUAL CAMPER NOOB WHO USES CASUAL WEAPONS OR LIVE TO BE A HARDCORE GAMER LIKE ME.\",\n",
        "            \"util\": 0,\n",
        "            \"total\": 0\n",
        "        },\n",
        "        {\n",
        "            \"funny\": \"\",\n",
        "            \"posted\": \"Posted December 21, 2013.\",\n",
        "            \"last_edited\": \"\",\n",
        "            \"item_id\": \"220\",\n",
        "            \"helpful\": \"No ratings yet\",\n",
        "            \"recommend\": True,\n",
        "            \"review\": \"This is one of the best games I have ever played! GET THIS GAME!\",\n",
        "            \"util\": 0,\n",
        "            \"total\": 0\n",
        "        }\n",
        "    ]\n",
        "}\n",
        "\n",
        "file_path = '/content/australian_user_reviews_coregido.json'\n",
        "\n",
        "try:\n",
        "    with open(file_path, 'r', encoding='utf-8') as file:\n",
        "        existing_data = json.load(file)\n",
        "        # Verificamos si el archivo tiene una lista\n",
        "        if not isinstance(existing_data, list):\n",
        "            print(\"El archivo no contiene una lista. Inicializando una lista vacía.\")\n",
        "            existing_data = []\n",
        "except FileNotFoundError:\n",
        "    print(\"El archivo no existe. Creando un nuevo archivo con lista vacía.\")\n",
        "    existing_data = []\n",
        "except json.JSONDecodeError:\n",
        "    print(\"Error en el formato del archivo. Inicializando una lista vacía.\")\n",
        "    existing_data = []\n",
        "\n",
        "# Revisamos si la informacion no esta repetida y agregamos la imformacion\n",
        "new_user_id = new_data[\"user_id\"]\n",
        "new_reviews = {review[\"item_id\"]: review for review in new_data[\"reviews\"]}\n",
        "\n",
        "for entry in existing_data:\n",
        "    if entry[\"user_id\"] == new_user_id:\n",
        "        existing_reviews = {review[\"item_id\"]: review for review in entry[\"reviews\"]}\n",
        "\n",
        "        for item_id, new_review in new_reviews.items():\n",
        "            if item_id not in existing_reviews:\n",
        "                entry[\"reviews\"].append(new_review)\n",
        "        break\n",
        "else:\n",
        "    existing_data.append(new_data)\n",
        "\n",
        "# Guardar los datos actualizados en el archivo australian_user_reviews_coregido\n",
        "with open(file_path, 'w', encoding='utf-8') as file:\n",
        "    json.dump(existing_data, file, ensure_ascii=False, indent=4)\n",
        "\n",
        "print(f\"Datos agregados correctamente al archivo '{file_path}'.\")\n"
      ],
      "metadata": {
        "colab": {
          "base_uri": "https://localhost:8080/"
        },
        "id": "F7-ChzGgoj9M",
        "outputId": "7a185de8-0aca-438e-ca1c-cce10ce32378"
      },
      "execution_count": 32,
      "outputs": [
        {
          "output_type": "stream",
          "name": "stdout",
          "text": [
            "Datos agregados correctamente al archivo '/content/australian_user_reviews_coregido.json'.\n"
          ]
        }
      ]
    },
    {
      "cell_type": "markdown",
      "source": [
        "Una ves que el archivo  a sido reparado lo pasaremos a formato csv donde cambiamos los nombres para una mejor comprensión  ademas convertimos las fechas a un formato mas amigable con Python  al  haber información solo mes y día dejamos  solo el mes y el día por si se quiere revisar los meses o días, de existir errores lo guardaremos en un nuevo archivo"
      ],
      "metadata": {
        "id": "20HWlL6rn_5Z"
      }
    },
    {
      "cell_type": "code",
      "source": [
        "import json\n",
        "import csv\n",
        "from datetime import datetime\n",
        "\n",
        "# Función para convertir texto de fecha a un formato de fecha en Python\n",
        "def convertir_fecha(fecha_texto):\n",
        "    if not fecha_texto:\n",
        "        return \"NaN\"  # Reemplazar None con \"NaN\"\n",
        "\n",
        "    fecha_texto = fecha_texto.replace(\"Posted \", \"\").replace(\"Last edited \", \"\").strip()\n",
        "    try:\n",
        "        return datetime.strptime(fecha_texto, \"%B %d, %Y\").strftime(\"%Y-%m-%d\")\n",
        "    except ValueError:\n",
        "        return fecha_texto if fecha_texto else \"NaN\"\n",
        "\n",
        "# Archivo para guardar los errores\n",
        "error_log_path = './errores_fechas.txt'\n",
        "\n",
        "# Función para procesar cada entrada de reseña\n",
        "def procesar_y_escribir_entrada(entrada, escritor_csv, error_log):\n",
        "    id_usuario = entrada.get('user_id', \"NaN\")  # Reemplazar None con \"NaN\"\n",
        "    url_usuario = entrada.get('user_url', \"NaN\")  # Reemplazar None con \"NaN\"\n",
        "    reseñas = entrada.get('reviews', [entrada])\n",
        "    for reseña in reseñas:\n",
        "        id_post = reseña.get('item_id', \"NaN\")  # Reemplazar None con \"NaN\"\n",
        "        fecha_post = convertir_fecha(reseña.get('posted'))\n",
        "        fecha_edicion = convertir_fecha(reseña.get('last_edited'))\n",
        "        if fecha_post == \"NaN\":\n",
        "            error_log.write(f\"Fecha 'posted' vacía o inválida en la reseña: {reseña}\\n\")\n",
        "\n",
        "        lo_recomendaria = reseña.get('recommend', \"NaN\")  # Reemplazar None con \"NaN\"\n",
        "\n",
        "        # Procesamos la columna \"helpful\"\n",
        "        helpful_text = reseña.get('helpful', None)\n",
        "        util = no_util = porcentaje_util = \"NaN\"  # Valores por defecto \"NaN\"\n",
        "        if helpful_text and \"of\" in helpful_text:\n",
        "            try:\n",
        "                partes = helpful_text.split(' of ')\n",
        "                util = int(partes[0])\n",
        "                total = int(partes[1].split()[0])\n",
        "                no_util = total - util\n",
        "                porcentaje_util = (util / total) * 100 if total > 0 else \"NaN\"\n",
        "            except (ValueError, IndexError):\n",
        "                util = no_util = porcentaje_util = \"NaN\"\n",
        "\n",
        "        comentario = reseña.get('review', \"NaN\")  # Reemplazar None con \"NaN\"\n",
        "        divertido = reseña.get('funny', \"NaN\")  # Reemplazar None con \"NaN\"\n",
        "\n",
        "        # Escribir fila directamente en el CSV\n",
        "        escritor_csv.writerow({\n",
        "            'Id_usuario': id_usuario,\n",
        "            'Url_usuario': url_usuario,\n",
        "            'Id_de_post': id_post,\n",
        "            'Fecha_de_post': fecha_post,\n",
        "            'Fecha_edicion_post': fecha_edicion,\n",
        "            'Lo_recomendaria': lo_recomendaria,\n",
        "            'Utilidad': util if util != \"NaN\" else 0,\n",
        "            'No_Utilidad': no_util if no_util != \"NaN\" else 0,\n",
        "            'Pors_util': porcentaje_util if porcentaje_util != \"NaN\" else \"NaN\",\n",
        "            'Comentario': comentario,\n",
        "            'Divertido': divertido\n",
        "        })\n",
        "\n",
        "# Función para procesar el archivo JSON completo como un objeto\n",
        "def procesar_archivo_json_en_csv(json_file_path, csv_output_path):\n",
        "    try:\n",
        "        with open(json_file_path, 'r', encoding='utf-8') as f_json:\n",
        "            datos = json.load(f_json)\n",
        "        with open(csv_output_path, 'w', newline='', encoding='utf-8') as f_csv:\n",
        "            campos = ['Id_usuario', 'Url_usuario', 'Id_de_post', 'Fecha_de_post', 'Fecha_edicion_post', 'Lo_recomendaria', 'Utilidad', 'No_Utilidad', 'Pors_util', 'Comentario', 'Divertido']\n",
        "            escritor_csv = csv.DictWriter(f_csv, fieldnames=campos)\n",
        "            escritor_csv.writeheader()\n",
        "            with open(error_log_path, 'w', encoding='utf-8') as error_log:\n",
        "                for entrada in datos:\n",
        "                    procesar_y_escribir_entrada(entrada, escritor_csv, error_log)\n",
        "\n",
        "        print(f\"Archivo CSV generado correctamente en '{csv_output_path}'.\")\n",
        "\n",
        "    except Exception as e:\n",
        "        print(f\"Error al procesar el archivo: {e}\")\n",
        "\n",
        "# Ejecutar la función para procesar el archivo JSON y guardarlo en un CSV\n",
        "procesar_archivo_json_en_csv('./australian_user_reviews_coregido.json', './reseñas.csv')\n"
      ],
      "metadata": {
        "colab": {
          "base_uri": "https://localhost:8080/"
        },
        "id": "pLMfSweGKjuX",
        "outputId": "549482d8-b43e-4861-a55c-645077cf51da"
      },
      "execution_count": 58,
      "outputs": [
        {
          "output_type": "stream",
          "name": "stdout",
          "text": [
            "Archivo CSV generado correctamente en './reseñas.csv'.\n"
          ]
        }
      ]
    },
    {
      "cell_type": "markdown",
      "source": [
        "EDA"
      ],
      "metadata": {
        "id": "3wueeZ5RoKWa"
      }
    },
    {
      "cell_type": "markdown",
      "source": [
        "\n",
        "Al no haber errores en el archivo csv  comenzamos el EDA cargando  la información en un data frame y visualizamos las primeras líneas\n"
      ],
      "metadata": {
        "id": "Qj6S7hMwoDTa"
      }
    },
    {
      "cell_type": "code",
      "source": [
        "file_path = '/content/reseñas.csv'\n",
        "\n",
        "df = pd.read_csv(file_path)\n",
        "\n",
        "df.head()\n"
      ],
      "metadata": {
        "colab": {
          "base_uri": "https://localhost:8080/",
          "height": 504
        },
        "id": "xjCetT1DoIJ_",
        "outputId": "ec69aa50-bbb7-4369-ee1f-565999c55293"
      },
      "execution_count": 59,
      "outputs": [
        {
          "output_type": "execute_result",
          "data": {
            "text/plain": [
              "          Id_usuario                                        Url_usuario  \\\n",
              "0  76561197970982479  http://steamcommunity.com/profiles/76561197970...   \n",
              "1  76561197970982479  http://steamcommunity.com/profiles/76561197970...   \n",
              "2  76561197970982479  http://steamcommunity.com/profiles/76561197970...   \n",
              "3            js41637               http://steamcommunity.com/id/js41637   \n",
              "4            js41637               http://steamcommunity.com/id/js41637   \n",
              "\n",
              "   Id_de_post       Fecha_de_post Fecha_edicion_post  Lo_recomendaria  \\\n",
              "0        1250   November 5, 2011.                NaN             True   \n",
              "1       22200      July 15, 2011.                NaN             True   \n",
              "2       43110     April 21, 2011.                NaN             True   \n",
              "3      251610      June 24, 2014.                NaN             True   \n",
              "4      227300  September 8, 2013.                NaN             True   \n",
              "\n",
              "   Utilidad  No_Utilidad  Pors_util  \\\n",
              "0         0            0        NaN   \n",
              "1         0            0        NaN   \n",
              "2         0            0        NaN   \n",
              "3        15            5       75.0   \n",
              "4         0            1        0.0   \n",
              "\n",
              "                                          Comentario Divertido  \n",
              "0  Simple yet with great replayability. In my opi...       NaN  \n",
              "1               It's unique and worth a playthrough.       NaN  \n",
              "2  Great atmosphere. The gunplay can be a bit chu...       NaN  \n",
              "3  I know what you think when you see this title ...       NaN  \n",
              "4  For a simple (it's actually not all that simpl...       NaN  "
            ],
            "text/html": [
              "\n",
              "  <div id=\"df-16d33264-d871-4056-bcd6-3532e9a3be52\" class=\"colab-df-container\">\n",
              "    <div>\n",
              "<style scoped>\n",
              "    .dataframe tbody tr th:only-of-type {\n",
              "        vertical-align: middle;\n",
              "    }\n",
              "\n",
              "    .dataframe tbody tr th {\n",
              "        vertical-align: top;\n",
              "    }\n",
              "\n",
              "    .dataframe thead th {\n",
              "        text-align: right;\n",
              "    }\n",
              "</style>\n",
              "<table border=\"1\" class=\"dataframe\">\n",
              "  <thead>\n",
              "    <tr style=\"text-align: right;\">\n",
              "      <th></th>\n",
              "      <th>Id_usuario</th>\n",
              "      <th>Url_usuario</th>\n",
              "      <th>Id_de_post</th>\n",
              "      <th>Fecha_de_post</th>\n",
              "      <th>Fecha_edicion_post</th>\n",
              "      <th>Lo_recomendaria</th>\n",
              "      <th>Utilidad</th>\n",
              "      <th>No_Utilidad</th>\n",
              "      <th>Pors_util</th>\n",
              "      <th>Comentario</th>\n",
              "      <th>Divertido</th>\n",
              "    </tr>\n",
              "  </thead>\n",
              "  <tbody>\n",
              "    <tr>\n",
              "      <th>0</th>\n",
              "      <td>76561197970982479</td>\n",
              "      <td>http://steamcommunity.com/profiles/76561197970...</td>\n",
              "      <td>1250</td>\n",
              "      <td>November 5, 2011.</td>\n",
              "      <td>NaN</td>\n",
              "      <td>True</td>\n",
              "      <td>0</td>\n",
              "      <td>0</td>\n",
              "      <td>NaN</td>\n",
              "      <td>Simple yet with great replayability. In my opi...</td>\n",
              "      <td>NaN</td>\n",
              "    </tr>\n",
              "    <tr>\n",
              "      <th>1</th>\n",
              "      <td>76561197970982479</td>\n",
              "      <td>http://steamcommunity.com/profiles/76561197970...</td>\n",
              "      <td>22200</td>\n",
              "      <td>July 15, 2011.</td>\n",
              "      <td>NaN</td>\n",
              "      <td>True</td>\n",
              "      <td>0</td>\n",
              "      <td>0</td>\n",
              "      <td>NaN</td>\n",
              "      <td>It's unique and worth a playthrough.</td>\n",
              "      <td>NaN</td>\n",
              "    </tr>\n",
              "    <tr>\n",
              "      <th>2</th>\n",
              "      <td>76561197970982479</td>\n",
              "      <td>http://steamcommunity.com/profiles/76561197970...</td>\n",
              "      <td>43110</td>\n",
              "      <td>April 21, 2011.</td>\n",
              "      <td>NaN</td>\n",
              "      <td>True</td>\n",
              "      <td>0</td>\n",
              "      <td>0</td>\n",
              "      <td>NaN</td>\n",
              "      <td>Great atmosphere. The gunplay can be a bit chu...</td>\n",
              "      <td>NaN</td>\n",
              "    </tr>\n",
              "    <tr>\n",
              "      <th>3</th>\n",
              "      <td>js41637</td>\n",
              "      <td>http://steamcommunity.com/id/js41637</td>\n",
              "      <td>251610</td>\n",
              "      <td>June 24, 2014.</td>\n",
              "      <td>NaN</td>\n",
              "      <td>True</td>\n",
              "      <td>15</td>\n",
              "      <td>5</td>\n",
              "      <td>75.0</td>\n",
              "      <td>I know what you think when you see this title ...</td>\n",
              "      <td>NaN</td>\n",
              "    </tr>\n",
              "    <tr>\n",
              "      <th>4</th>\n",
              "      <td>js41637</td>\n",
              "      <td>http://steamcommunity.com/id/js41637</td>\n",
              "      <td>227300</td>\n",
              "      <td>September 8, 2013.</td>\n",
              "      <td>NaN</td>\n",
              "      <td>True</td>\n",
              "      <td>0</td>\n",
              "      <td>1</td>\n",
              "      <td>0.0</td>\n",
              "      <td>For a simple (it's actually not all that simpl...</td>\n",
              "      <td>NaN</td>\n",
              "    </tr>\n",
              "  </tbody>\n",
              "</table>\n",
              "</div>\n",
              "    <div class=\"colab-df-buttons\">\n",
              "\n",
              "  <div class=\"colab-df-container\">\n",
              "    <button class=\"colab-df-convert\" onclick=\"convertToInteractive('df-16d33264-d871-4056-bcd6-3532e9a3be52')\"\n",
              "            title=\"Convert this dataframe to an interactive table.\"\n",
              "            style=\"display:none;\">\n",
              "\n",
              "  <svg xmlns=\"http://www.w3.org/2000/svg\" height=\"24px\" viewBox=\"0 -960 960 960\">\n",
              "    <path d=\"M120-120v-720h720v720H120Zm60-500h600v-160H180v160Zm220 220h160v-160H400v160Zm0 220h160v-160H400v160ZM180-400h160v-160H180v160Zm440 0h160v-160H620v160ZM180-180h160v-160H180v160Zm440 0h160v-160H620v160Z\"/>\n",
              "  </svg>\n",
              "    </button>\n",
              "\n",
              "  <style>\n",
              "    .colab-df-container {\n",
              "      display:flex;\n",
              "      gap: 12px;\n",
              "    }\n",
              "\n",
              "    .colab-df-convert {\n",
              "      background-color: #E8F0FE;\n",
              "      border: none;\n",
              "      border-radius: 50%;\n",
              "      cursor: pointer;\n",
              "      display: none;\n",
              "      fill: #1967D2;\n",
              "      height: 32px;\n",
              "      padding: 0 0 0 0;\n",
              "      width: 32px;\n",
              "    }\n",
              "\n",
              "    .colab-df-convert:hover {\n",
              "      background-color: #E2EBFA;\n",
              "      box-shadow: 0px 1px 2px rgba(60, 64, 67, 0.3), 0px 1px 3px 1px rgba(60, 64, 67, 0.15);\n",
              "      fill: #174EA6;\n",
              "    }\n",
              "\n",
              "    .colab-df-buttons div {\n",
              "      margin-bottom: 4px;\n",
              "    }\n",
              "\n",
              "    [theme=dark] .colab-df-convert {\n",
              "      background-color: #3B4455;\n",
              "      fill: #D2E3FC;\n",
              "    }\n",
              "\n",
              "    [theme=dark] .colab-df-convert:hover {\n",
              "      background-color: #434B5C;\n",
              "      box-shadow: 0px 1px 3px 1px rgba(0, 0, 0, 0.15);\n",
              "      filter: drop-shadow(0px 1px 2px rgba(0, 0, 0, 0.3));\n",
              "      fill: #FFFFFF;\n",
              "    }\n",
              "  </style>\n",
              "\n",
              "    <script>\n",
              "      const buttonEl =\n",
              "        document.querySelector('#df-16d33264-d871-4056-bcd6-3532e9a3be52 button.colab-df-convert');\n",
              "      buttonEl.style.display =\n",
              "        google.colab.kernel.accessAllowed ? 'block' : 'none';\n",
              "\n",
              "      async function convertToInteractive(key) {\n",
              "        const element = document.querySelector('#df-16d33264-d871-4056-bcd6-3532e9a3be52');\n",
              "        const dataTable =\n",
              "          await google.colab.kernel.invokeFunction('convertToInteractive',\n",
              "                                                    [key], {});\n",
              "        if (!dataTable) return;\n",
              "\n",
              "        const docLinkHtml = 'Like what you see? Visit the ' +\n",
              "          '<a target=\"_blank\" href=https://colab.research.google.com/notebooks/data_table.ipynb>data table notebook</a>'\n",
              "          + ' to learn more about interactive tables.';\n",
              "        element.innerHTML = '';\n",
              "        dataTable['output_type'] = 'display_data';\n",
              "        await google.colab.output.renderOutput(dataTable, element);\n",
              "        const docLink = document.createElement('div');\n",
              "        docLink.innerHTML = docLinkHtml;\n",
              "        element.appendChild(docLink);\n",
              "      }\n",
              "    </script>\n",
              "  </div>\n",
              "\n",
              "\n",
              "<div id=\"df-b21c594a-30ca-46cc-8b70-c438f5d17417\">\n",
              "  <button class=\"colab-df-quickchart\" onclick=\"quickchart('df-b21c594a-30ca-46cc-8b70-c438f5d17417')\"\n",
              "            title=\"Suggest charts\"\n",
              "            style=\"display:none;\">\n",
              "\n",
              "<svg xmlns=\"http://www.w3.org/2000/svg\" height=\"24px\"viewBox=\"0 0 24 24\"\n",
              "     width=\"24px\">\n",
              "    <g>\n",
              "        <path d=\"M19 3H5c-1.1 0-2 .9-2 2v14c0 1.1.9 2 2 2h14c1.1 0 2-.9 2-2V5c0-1.1-.9-2-2-2zM9 17H7v-7h2v7zm4 0h-2V7h2v10zm4 0h-2v-4h2v4z\"/>\n",
              "    </g>\n",
              "</svg>\n",
              "  </button>\n",
              "\n",
              "<style>\n",
              "  .colab-df-quickchart {\n",
              "      --bg-color: #E8F0FE;\n",
              "      --fill-color: #1967D2;\n",
              "      --hover-bg-color: #E2EBFA;\n",
              "      --hover-fill-color: #174EA6;\n",
              "      --disabled-fill-color: #AAA;\n",
              "      --disabled-bg-color: #DDD;\n",
              "  }\n",
              "\n",
              "  [theme=dark] .colab-df-quickchart {\n",
              "      --bg-color: #3B4455;\n",
              "      --fill-color: #D2E3FC;\n",
              "      --hover-bg-color: #434B5C;\n",
              "      --hover-fill-color: #FFFFFF;\n",
              "      --disabled-bg-color: #3B4455;\n",
              "      --disabled-fill-color: #666;\n",
              "  }\n",
              "\n",
              "  .colab-df-quickchart {\n",
              "    background-color: var(--bg-color);\n",
              "    border: none;\n",
              "    border-radius: 50%;\n",
              "    cursor: pointer;\n",
              "    display: none;\n",
              "    fill: var(--fill-color);\n",
              "    height: 32px;\n",
              "    padding: 0;\n",
              "    width: 32px;\n",
              "  }\n",
              "\n",
              "  .colab-df-quickchart:hover {\n",
              "    background-color: var(--hover-bg-color);\n",
              "    box-shadow: 0 1px 2px rgba(60, 64, 67, 0.3), 0 1px 3px 1px rgba(60, 64, 67, 0.15);\n",
              "    fill: var(--button-hover-fill-color);\n",
              "  }\n",
              "\n",
              "  .colab-df-quickchart-complete:disabled,\n",
              "  .colab-df-quickchart-complete:disabled:hover {\n",
              "    background-color: var(--disabled-bg-color);\n",
              "    fill: var(--disabled-fill-color);\n",
              "    box-shadow: none;\n",
              "  }\n",
              "\n",
              "  .colab-df-spinner {\n",
              "    border: 2px solid var(--fill-color);\n",
              "    border-color: transparent;\n",
              "    border-bottom-color: var(--fill-color);\n",
              "    animation:\n",
              "      spin 1s steps(1) infinite;\n",
              "  }\n",
              "\n",
              "  @keyframes spin {\n",
              "    0% {\n",
              "      border-color: transparent;\n",
              "      border-bottom-color: var(--fill-color);\n",
              "      border-left-color: var(--fill-color);\n",
              "    }\n",
              "    20% {\n",
              "      border-color: transparent;\n",
              "      border-left-color: var(--fill-color);\n",
              "      border-top-color: var(--fill-color);\n",
              "    }\n",
              "    30% {\n",
              "      border-color: transparent;\n",
              "      border-left-color: var(--fill-color);\n",
              "      border-top-color: var(--fill-color);\n",
              "      border-right-color: var(--fill-color);\n",
              "    }\n",
              "    40% {\n",
              "      border-color: transparent;\n",
              "      border-right-color: var(--fill-color);\n",
              "      border-top-color: var(--fill-color);\n",
              "    }\n",
              "    60% {\n",
              "      border-color: transparent;\n",
              "      border-right-color: var(--fill-color);\n",
              "    }\n",
              "    80% {\n",
              "      border-color: transparent;\n",
              "      border-right-color: var(--fill-color);\n",
              "      border-bottom-color: var(--fill-color);\n",
              "    }\n",
              "    90% {\n",
              "      border-color: transparent;\n",
              "      border-bottom-color: var(--fill-color);\n",
              "    }\n",
              "  }\n",
              "</style>\n",
              "\n",
              "  <script>\n",
              "    async function quickchart(key) {\n",
              "      const quickchartButtonEl =\n",
              "        document.querySelector('#' + key + ' button');\n",
              "      quickchartButtonEl.disabled = true;  // To prevent multiple clicks.\n",
              "      quickchartButtonEl.classList.add('colab-df-spinner');\n",
              "      try {\n",
              "        const charts = await google.colab.kernel.invokeFunction(\n",
              "            'suggestCharts', [key], {});\n",
              "      } catch (error) {\n",
              "        console.error('Error during call to suggestCharts:', error);\n",
              "      }\n",
              "      quickchartButtonEl.classList.remove('colab-df-spinner');\n",
              "      quickchartButtonEl.classList.add('colab-df-quickchart-complete');\n",
              "    }\n",
              "    (() => {\n",
              "      let quickchartButtonEl =\n",
              "        document.querySelector('#df-b21c594a-30ca-46cc-8b70-c438f5d17417 button');\n",
              "      quickchartButtonEl.style.display =\n",
              "        google.colab.kernel.accessAllowed ? 'block' : 'none';\n",
              "    })();\n",
              "  </script>\n",
              "</div>\n",
              "\n",
              "    </div>\n",
              "  </div>\n"
            ],
            "application/vnd.google.colaboratory.intrinsic+json": {
              "type": "dataframe",
              "variable_name": "df",
              "summary": "{\n  \"name\": \"df\",\n  \"rows\": 59305,\n  \"fields\": [\n    {\n      \"column\": \"Id_usuario\",\n      \"properties\": {\n        \"dtype\": \"category\",\n        \"num_unique_values\": 25458,\n        \"samples\": [\n          \"76561197999775723\",\n          \"76561198101572628\",\n          \"Conkaface\"\n        ],\n        \"semantic_type\": \"\",\n        \"description\": \"\"\n      }\n    },\n    {\n      \"column\": \"Url_usuario\",\n      \"properties\": {\n        \"dtype\": \"category\",\n        \"num_unique_values\": 25458,\n        \"samples\": [\n          \"http://steamcommunity.com/profiles/76561197999775723\",\n          \"http://steamcommunity.com/profiles/76561198101572628\",\n          \"http://steamcommunity.com/id/Conkaface\"\n        ],\n        \"semantic_type\": \"\",\n        \"description\": \"\"\n      }\n    },\n    {\n      \"column\": \"Id_de_post\",\n      \"properties\": {\n        \"dtype\": \"number\",\n        \"std\": 132029,\n        \"min\": 10,\n        \"max\": 527340,\n        \"num_unique_values\": 3682,\n        \"samples\": [\n          385530,\n          257170,\n          326720\n        ],\n        \"semantic_type\": \"\",\n        \"description\": \"\"\n      }\n    },\n    {\n      \"column\": \"Fecha_de_post\",\n      \"properties\": {\n        \"dtype\": \"category\",\n        \"num_unique_values\": 1906,\n        \"samples\": [\n          \"October 3, 2011.\",\n          \"May 6, 2014.\",\n          \"January 26, 2011.\"\n        ],\n        \"semantic_type\": \"\",\n        \"description\": \"\"\n      }\n    },\n    {\n      \"column\": \"Fecha_edicion_post\",\n      \"properties\": {\n        \"dtype\": \"category\",\n        \"num_unique_values\": 1014,\n        \"samples\": [\n          \"July 26.\",\n          \"June 1, 2015.\",\n          \"December 15, 2015.\"\n        ],\n        \"semantic_type\": \"\",\n        \"description\": \"\"\n      }\n    },\n    {\n      \"column\": \"Lo_recomendaria\",\n      \"properties\": {\n        \"dtype\": \"boolean\",\n        \"num_unique_values\": 2,\n        \"samples\": [\n          false,\n          true\n        ],\n        \"semantic_type\": \"\",\n        \"description\": \"\"\n      }\n    },\n    {\n      \"column\": \"Utilidad\",\n      \"properties\": {\n        \"dtype\": \"number\",\n        \"std\": 20,\n        \"min\": 0,\n        \"max\": 831,\n        \"num_unique_values\": 258,\n        \"samples\": [\n          386,\n          83\n        ],\n        \"semantic_type\": \"\",\n        \"description\": \"\"\n      }\n    },\n    {\n      \"column\": \"No_Utilidad\",\n      \"properties\": {\n        \"dtype\": \"number\",\n        \"std\": 8,\n        \"min\": 0,\n        \"max\": 532,\n        \"num_unique_values\": 163,\n        \"samples\": [\n          84,\n          216\n        ],\n        \"semantic_type\": \"\",\n        \"description\": \"\"\n      }\n    },\n    {\n      \"column\": \"Pors_util\",\n      \"properties\": {\n        \"dtype\": \"number\",\n        \"std\": 38.59494804282242,\n        \"min\": 0.0,\n        \"max\": 100.0,\n        \"num_unique_values\": 882,\n        \"samples\": [\n          17.391304347826086,\n          96.36363636363636\n        ],\n        \"semantic_type\": \"\",\n        \"description\": \"\"\n      }\n    },\n    {\n      \"column\": \"Comentario\",\n      \"properties\": {\n        \"dtype\": \"string\",\n        \"num_unique_values\": 55313,\n        \"samples\": [\n          \"Beautiful visuals, gripping story, breath-taking soundtrack. Supergiant games does not disappoint with this stunning science fiction role-playing work of art. If you liked Bastion, Transistor should be your next purchase. Worth every cent.\",\n          \"Its an awesome game to play with friends and lots of fun to had from ripping your friends heads of to chooping them in half and other really fun game modes SUPER FUN!!! Everyone get it\"\n        ],\n        \"semantic_type\": \"\",\n        \"description\": \"\"\n      }\n    },\n    {\n      \"column\": \"Divertido\",\n      \"properties\": {\n        \"dtype\": \"category\",\n        \"num_unique_values\": 185,\n        \"samples\": [\n          \"23 people found this review funny\",\n          \"54 people found this review funny\"\n        ],\n        \"semantic_type\": \"\",\n        \"description\": \"\"\n      }\n    }\n  ]\n}"
            }
          },
          "metadata": {},
          "execution_count": 59
        }
      ]
    },
    {
      "cell_type": "markdown",
      "source": [
        "Realizamos un resumen estadístico delos datos numéricos, hacemos un resumen de cantidad de filas y columnas , obtenemos información del archivo y revisamos la cantidad de datos nulos por columna"
      ],
      "metadata": {
        "id": "KMbL89u3Ri4S"
      }
    },
    {
      "cell_type": "markdown",
      "source": [
        "Resumen Estadístico"
      ],
      "metadata": {
        "id": "R-jc8xSFoc8H"
      }
    },
    {
      "cell_type": "code",
      "source": [
        "df = pd.read_csv('/content/reseñas.csv')\n",
        "print(f\"Dimensiones del DataFrame: {df.shape}\")\n",
        "\n",
        "df.info()\n",
        "\n",
        "print(\"Valores nulos por columna:\")\n",
        "print(df.isnull().sum())"
      ],
      "metadata": {
        "colab": {
          "base_uri": "https://localhost:8080/"
        },
        "id": "TfHGhz23ofeu",
        "outputId": "c363ae44-07d9-4254-9303-f830cfca34fb"
      },
      "execution_count": 60,
      "outputs": [
        {
          "output_type": "stream",
          "name": "stdout",
          "text": [
            "Dimensiones del DataFrame: (59305, 11)\n",
            "<class 'pandas.core.frame.DataFrame'>\n",
            "RangeIndex: 59305 entries, 0 to 59304\n",
            "Data columns (total 11 columns):\n",
            " #   Column              Non-Null Count  Dtype  \n",
            "---  ------              --------------  -----  \n",
            " 0   Id_usuario          59305 non-null  object \n",
            " 1   Url_usuario         59305 non-null  object \n",
            " 2   Id_de_post          59305 non-null  int64  \n",
            " 3   Fecha_de_post       59305 non-null  object \n",
            " 4   Fecha_edicion_post  6140 non-null   object \n",
            " 5   Lo_recomendaria     59305 non-null  bool   \n",
            " 6   Utilidad            59305 non-null  int64  \n",
            " 7   No_Utilidad         59305 non-null  int64  \n",
            " 8   Pors_util           29111 non-null  float64\n",
            " 9   Comentario          59275 non-null  object \n",
            " 10  Divertido           8151 non-null   object \n",
            "dtypes: bool(1), float64(1), int64(3), object(6)\n",
            "memory usage: 4.6+ MB\n",
            "Valores nulos por columna:\n",
            "Id_usuario                0\n",
            "Url_usuario               0\n",
            "Id_de_post                0\n",
            "Fecha_de_post             0\n",
            "Fecha_edicion_post    53165\n",
            "Lo_recomendaria           0\n",
            "Utilidad                  0\n",
            "No_Utilidad               0\n",
            "Pors_util             30194\n",
            "Comentario               30\n",
            "Divertido             51154\n",
            "dtype: int64\n"
          ]
        }
      ]
    },
    {
      "cell_type": "markdown",
      "source": [
        "Al revisar nos damos cuenta de columnas con muchos valores faltantes  en las columnas Divertido y Fecha_edicion _pos las cuales eliminaremos al no considerar relevante por el excesivo faltante de datos , mientras que en al columna pos_utiles  remplazaremos valores faltantes por none al considerar que hay otra columna con los valore que no fueron útiles   "
      ],
      "metadata": {
        "id": "xwizbgkEo0ev"
      }
    },
    {
      "cell_type": "code",
      "source": [
        "missing_values = df.isnull().mean() * 100\n",
        "print(\"Porcentaje de valores faltantes por columna:\\n\", missing_values)\n",
        "\n",
        "df_cleaned = df.dropna(thresh=len(df.columns) - 1)\n",
        "\n",
        "df_cleaned['Pors_util'] = df_cleaned['Pors_util'].fillna(df_cleaned['Pors_util'].mean())\n",
        "\n",
        "df_cleaned = df_cleaned.drop(columns=['Fecha_edicion_post', 'Divertido'])\n",
        "\n",
        "print(\"Valores faltantes por columna después de la limpieza:\\n\", df_cleaned.isnull().sum())\n",
        "\n",
        "# Guardamos el archivo editado\n",
        "df_cleaned.to_csv('/content/reseñas.csv', index=False)\n"
      ],
      "metadata": {
        "colab": {
          "base_uri": "https://localhost:8080/"
        },
        "id": "GtOUO6cmo61Y",
        "outputId": "448976bd-f9ae-479b-b4a4-741cef63433e"
      },
      "execution_count": 61,
      "outputs": [
        {
          "output_type": "stream",
          "name": "stdout",
          "text": [
            "Porcentaje de valores faltantes por columna:\n",
            " Id_usuario             0.000000\n",
            "Url_usuario            0.000000\n",
            "Id_de_post             0.000000\n",
            "Fecha_de_post          0.000000\n",
            "Fecha_edicion_post    89.646741\n",
            "Lo_recomendaria        0.000000\n",
            "Utilidad               0.000000\n",
            "No_Utilidad            0.000000\n",
            "Pors_util             50.913076\n",
            "Comentario             0.050586\n",
            "Divertido             86.255796\n",
            "dtype: float64\n",
            "Valores faltantes por columna después de la limpieza:\n",
            " Id_usuario         0\n",
            "Url_usuario        0\n",
            "Id_de_post         0\n",
            "Fecha_de_post      0\n",
            "Lo_recomendaria    0\n",
            "Utilidad           0\n",
            "No_Utilidad        0\n",
            "Pors_util          0\n",
            "Comentario         0\n",
            "dtype: int64\n"
          ]
        },
        {
          "output_type": "stream",
          "name": "stderr",
          "text": [
            "<ipython-input-61-f7cd2780684e>:6: SettingWithCopyWarning: \n",
            "A value is trying to be set on a copy of a slice from a DataFrame.\n",
            "Try using .loc[row_indexer,col_indexer] = value instead\n",
            "\n",
            "See the caveats in the documentation: https://pandas.pydata.org/pandas-docs/stable/user_guide/indexing.html#returning-a-view-versus-a-copy\n",
            "  df_cleaned['Pors_util'] = df_cleaned['Pors_util'].fillna(df_cleaned['Pors_util'].mean())\n"
          ]
        }
      ]
    },
    {
      "cell_type": "markdown",
      "source": [
        "Aquí lo que haremos será verificar si cada valor en la columna Id_usuarios contiene solo números."
      ],
      "metadata": {
        "id": "FGWj5gj6BEUD"
      }
    },
    {
      "cell_type": "markdown",
      "source": [
        "Visualización de la Distribución de Variables"
      ],
      "metadata": {
        "id": "yA05X_isqBs_"
      }
    },
    {
      "cell_type": "code",
      "source": [
        "import matplotlib.pyplot as plt\n",
        "import pandas as pd\n",
        "\n",
        "# Histograma para la distribución de 'Pors_util'\n",
        "df_cleaned['Pors_util'].hist(bins=10)\n",
        "plt.title('Distribución de la utilidad de las reseñas (Pors_util)')\n",
        "plt.xlabel('Pors_util')\n",
        "plt.ylabel('Frecuencia')\n",
        "plt.show()\n",
        "\n",
        "# Gráfico de barras para la columna 'Lo_recomendaria'\n",
        "df_cleaned['Lo_recomendaria'].value_counts().plot(kind='bar')\n",
        "plt.title('Distribución de Recomendaciones')\n",
        "plt.xlabel('Lo_recomendaria')\n",
        "plt.ylabel('Frecuencia')\n",
        "plt.show()\n",
        "\n",
        "# Extraer el mes de la columna 'Fecha_de_post' utilizando .loc[]\n",
        "df_cleaned.loc[:, 'Mes'] = pd.to_datetime(df_cleaned['Fecha_de_post'], errors='coerce').dt.month\n",
        "\n",
        "# Histograma de los meses\n",
        "df_cleaned['Mes'].hist(bins=12, edgecolor='black')\n",
        "plt.title('Distribución de Reseñas por Mes')\n",
        "plt.xlabel('Mes')\n",
        "plt.ylabel('Número de Reseñas')\n",
        "plt.show()\n"
      ],
      "metadata": {
        "colab": {
          "base_uri": "https://localhost:8080/",
          "height": 1000
        },
        "id": "A9qXpatKqEZe",
        "outputId": "6d7fe7c8-0dfa-4d5a-ce52-fee3649c25b7"
      },
      "execution_count": 62,
      "outputs": [
        {
          "output_type": "display_data",
          "data": {
            "text/plain": [
              "<Figure size 640x480 with 1 Axes>"
            ],
            "image/png": "[encoded data removed]"
          },
          "metadata": {}
        },
        {
          "output_type": "display_data",
          "data": {
            "text/plain": [
              "<Figure size 640x480 with 1 Axes>"
            ],
            "image/png": "[encoded data removed]"
          },
          "metadata": {}
        },
        {
          "output_type": "display_data",
          "data": {
            "text/plain": [
              "<Figure size 640x480 with 1 Axes>"
            ],
            "image/png": "[encoded data removed]"
          },
          "metadata": {}
        }
      ]
    },
    {
      "cell_type": "markdown",
      "source": [
        "Histograma de Pors_util"
      ],
      "metadata": {
        "id": "V1MFbwo9b7rC"
      }
    },
    {
      "cell_type": "markdown",
      "source": [
        ":"
      ],
      "metadata": {
        "id": "luLhHfTkcEDn"
      }
    },
    {
      "cell_type": "code",
      "source": [
        "# Histograma de la utilidad de las reseñas\n",
        "df_cleaned['Pors_util'].hist(bins=10, edgecolor='black')\n",
        "plt.title('Distribución de la Utilidad de las Reseñas (Pors_util)')\n",
        "plt.xlabel('Pors_util')\n",
        "plt.ylabel('Frecuencia')\n",
        "plt.show()"
      ],
      "metadata": {
        "colab": {
          "base_uri": "https://localhost:8080/",
          "height": 472
        },
        "id": "p-OR8EV_sRet",
        "outputId": "1ceadb74-8484-4c83-9f6e-32565d3470ec"
      },
      "execution_count": 11,
      "outputs": [
        {
          "output_type": "display_data",
          "data": {
            "text/plain": [
              "<Figure size 640x480 with 1 Axes>"
            ],
            "image/png": "[encoded data removed]"
          },
          "metadata": {}
        }
      ]
    },
    {
      "cell_type": "markdown",
      "source": [
        "Analisia de sentimientos.\n",
        "En este punto la columna a la comentarios prosedemos a aplicarle un analisis de sentimientosetiquetando las reseñas con: 0(malo), 1(neutral o no hay cometario),2(pocitivo) y se cambia el nombre de la coluna de Comentarios a Analisis_sentimientos"
      ],
      "metadata": {
        "id": "Og44aXMWrlXM"
      }
    },
    {
      "cell_type": "code",
      "source": [
        "#Cargamos data Frame\n",
        "\n",
        "file_path = '/content/reseñas.csv'\n",
        "df = pd.read_csv(file_path)\n",
        "\n",
        "# Revisamos que no haya espacios filas vacias en la columna comentarios\n",
        "df['Comentario'] = df['Comentario'].fillna('')\n"
      ],
      "metadata": {
        "id": "DFey4haw6noO"
      },
      "execution_count": 63,
      "outputs": []
    },
    {
      "cell_type": "code",
      "source": [
        "# Verificar si hay inconsistencias en el número de columnas\n",
        "print(df.info())\n",
        "print(df.head())\n"
      ],
      "metadata": {
        "colab": {
          "base_uri": "https://localhost:8080/"
        },
        "id": "jfWr-ZBG9oiy",
        "outputId": "5cd27af2-8629-4510-d38c-6eedb6fcb6d8"
      },
      "execution_count": 64,
      "outputs": [
        {
          "output_type": "stream",
          "name": "stdout",
          "text": [
            "<class 'pandas.core.frame.DataFrame'>\n",
            "RangeIndex: 9590 entries, 0 to 9589\n",
            "Data columns (total 9 columns):\n",
            " #   Column           Non-Null Count  Dtype  \n",
            "---  ------           --------------  -----  \n",
            " 0   Id_usuario       9590 non-null   object \n",
            " 1   Url_usuario      9590 non-null   object \n",
            " 2   Id_de_post       9590 non-null   int64  \n",
            " 3   Fecha_de_post    9590 non-null   object \n",
            " 4   Lo_recomendaria  9590 non-null   bool   \n",
            " 5   Utilidad         9590 non-null   int64  \n",
            " 6   No_Utilidad      9590 non-null   int64  \n",
            " 7   Pors_util        9590 non-null   float64\n",
            " 8   Comentario       9590 non-null   object \n",
            "dtypes: bool(1), float64(1), int64(3), object(4)\n",
            "memory usage: 608.9+ KB\n",
            "None\n",
            "  Id_usuario                             Url_usuario  Id_de_post  \\\n",
            "0  maplemage  http://steamcommunity.com/id/maplemage      211420   \n",
            "1  maplemage  http://steamcommunity.com/id/maplemage      211820   \n",
            "2  maplemage  http://steamcommunity.com/id/maplemage         730   \n",
            "3     Wackky     http://steamcommunity.com/id/Wackky      207610   \n",
            "4     Wackky     http://steamcommunity.com/id/Wackky         550   \n",
            "\n",
            "        Fecha_de_post  Lo_recomendaria  Utilidad  No_Utilidad   Pors_util  \\\n",
            "0     April 15, 2014.             True        35            8   81.395349   \n",
            "1  December 23, 2013.             True        12            4   75.000000   \n",
            "2     March 14, 2014.             True         5            0  100.000000   \n",
            "3  December 24, 2012.             True         1            0  100.000000   \n",
            "4   October 21, 2012.             True         1            0  100.000000   \n",
            "\n",
            "                                          Comentario  \n",
            "0                                            Git gud  \n",
            "1  It's like Terraria, you play for 9 hours strai...  \n",
            "2              Hold shift to win, Hold CTRL to lose.  \n",
            "3  It reminds me of that TV Show called \"The Walk...  \n",
            "4  This game is fantastic if you are looking to D...  \n"
          ]
        }
      ]
    },
    {
      "cell_type": "code",
      "source": [
        "df = pd.read_csv('/content/reseñas.csv')\n",
        "\n",
        "if 'Analisis_sentimientos' not in df.columns:\n",
        "\n",
        "    # Creamos un objeto analizador VADER\n",
        "    analyzer = SentimentIntensityAnalyzer()\n",
        "\n",
        "    # Función para detectar el idioma y traducir si es necesario ,en caso de precentar un error devulelve neutral\n",
        "    def detectar_y_analizar_sentimiento(texto):\n",
        "        try:\n",
        "            idioma = detect(texto)\n",
        "            if idioma == 'en':\n",
        "                polaridad = analyzer.polarity_scores(texto)['compound']\n",
        "                return polaridad\n",
        "            else:\n",
        "                texto_traducido = TextBlob(texto).translate(to='en')\n",
        "                polaridad = analyzer.polarity_scores(str(texto_traducido))['compound']\n",
        "                return polaridad\n",
        "        except Exception:\n",
        "            return 0\n",
        "\n",
        "    # Aplicar la función a la columna 'Comentario'\n",
        "    df['polaridad_vader'] = df['Comentario'].apply(detectar_y_analizar_sentimiento)\n",
        "\n",
        "    # Función para asignar la puntuación basada en la polaridad\n",
        "    def asignar_sentimiento(polaridad):\n",
        "        if polaridad <= -0.05:\n",
        "            return 0\n",
        "        elif polaridad >= 0.05:\n",
        "            return 2\n",
        "        else:\n",
        "            return 1\n",
        "\n",
        "    # Reemplazar la columna 'Comentario' con los análisis de sentimientos\n",
        "    df['Analisis_sentimientos'] = df['polaridad_vader'].apply(asignar_sentimiento)\n",
        "\n",
        "    df = df.drop(columns=['polaridad_vader'])\n",
        "\n",
        "    df.to_csv('/content/reseñas.csv', index=False)\n",
        "print(df['Analisis_sentimientos'].value_counts())\n",
        "\n",
        "# Creamos  una gráfica de torta\n",
        "sentimientos_frecuencia = df['Analisis_sentimientos'].value_counts()\n",
        "etiquetas = ['Positivo', 'Neutral', 'Malo']\n",
        "tamaños = [sentimientos_frecuencia.get(2, 0), sentimientos_frecuencia.get(1, 0), sentimientos_frecuencia.get(0, 0)]\n",
        "\n",
        "plt.pie(tamaños, labels=etiquetas, autopct='%1.1f%%', startangle=90, colors=['#66b3ff', '#ffcc99', '#ff9999'])\n",
        "plt.axis('equal')\n",
        "plt.title('Distribución de Sentimientos')\n",
        "plt.show()\n"
      ],
      "metadata": {
        "colab": {
          "base_uri": "https://localhost:8080/",
          "height": 517
        },
        "id": "Zb-e_kY1iG-H",
        "outputId": "5e912190-b6b6-4a79-9464-86c2daee6885"
      },
      "execution_count": 65,
      "outputs": [
        {
          "output_type": "stream",
          "name": "stdout",
          "text": [
            "Analisis_sentimientos\n",
            "2    5483\n",
            "1    2534\n",
            "0    1573\n",
            "Name: count, dtype: int64\n"
          ]
        },
        {
          "output_type": "display_data",
          "data": {
            "text/plain": [
              "<Figure size 640x480 with 1 Axes>"
            ],
            "image/png": "[encoded data removed]"
          },
          "metadata": {}
        }
      ]
    },
    {
      "cell_type": "code",
      "source": [
        "# Cargar el archivo CSV\n",
        "df = pd.read_csv('/content/reseñas.csv')\n",
        "\n",
        "# Eliminamos la columna 'Comentario'\n",
        "df = df.drop(columns=['Comentario'])  # O también puedes usar df.drop('Comentario', axis=1, inplace=True)\n",
        "\n",
        "# Guardar el DataFrame limpio en un nuevo archivo CSV\n",
        "df.to_csv('/content/reseñas.csv', index=False)\n",
        "\n",
        "print(\"La columna 'Comentario' ha sido eliminada y el archivo ha sido guardado como 'archivo_limpio.csv'.\")\n",
        "\n"
      ],
      "metadata": {
        "colab": {
          "base_uri": "https://localhost:8080/"
        },
        "id": "KRbZ1KZB_vIy",
        "outputId": "c399a8de-6100-4923-9aa1-ee1a0dac41dd"
      },
      "execution_count": 66,
      "outputs": [
        {
          "output_type": "stream",
          "name": "stdout",
          "text": [
            "La columna 'Comentario' ha sido eliminada y el archivo ha sido guardado como 'archivo_limpio.csv'.\n"
          ]
        }
      ]
    },
    {
      "cell_type": "code",
      "source": [
        "# Función para verificar si un valor es numérico\n",
        "def es_numerico(valor):\n",
        "    try:\n",
        "        float(valor)\n",
        "        return True\n",
        "    except ValueError:\n",
        "        return False\n",
        "\n",
        "# Aplicar la función a la columna 'Id_usuarios', reemplazando los valores no numéricos por NaN\n",
        "df['Id_usuario'] = df['Id_usuario'].apply(lambda x: x if es_numerico(x) else np.nan)\n",
        "# Eliminar las filas donde 'Id_usuarios' no sean numérico\n",
        "df = df[df['Id_usuario'].apply(es_numerico)]\n",
        "# Guardadamos el DataFrame\n",
        "df.to_csv('/content/reseñas.csv', index=False)\n"
      ],
      "metadata": {
        "id": "LfyfWQB4A3n3"
      },
      "execution_count": 57,
      "outputs": []
    }
  ]
}